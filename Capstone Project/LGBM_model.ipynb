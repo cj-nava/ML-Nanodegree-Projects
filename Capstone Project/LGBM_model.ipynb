{
 "cells": [
  {
   "cell_type": "markdown",
   "metadata": {
    "_cell_guid": "d632b08c-d252-4238-b496-e2c6edebec4b",
    "_uuid": "eb13bf76d4e1e60d0703856ec391cdc2c5bdf1fb"
   },
   "source": [
    "## Imports\n"
   ]
  },
  {
   "cell_type": "code",
   "execution_count": 1,
   "metadata": {
    "_cell_guid": "b1076dfc-b9ad-4769-8c92-a6c4dae69d19",
    "_uuid": "8f2839f25d086af736a60e9eeb907d3b93b6e0e5"
   },
   "outputs": [],
   "source": [
    "# Adapted from Tilii kernel: https://www.kaggle.com/tilii7/olivier-lightgbm-parameters-by-bayesian-opt/code\n",
    "\n",
    "# numpy and pandas for data manipulation\n",
    "import numpy as np\n",
    "import pandas as pd \n",
    "\n",
    "# sklearn preprocessing for dealing with categorical variables\n",
    "from sklearn.preprocessing import LabelEncoder\n",
    "\n",
    "# File system manangement\n",
    "import os\n",
    "\n",
    "# Memory management\n",
    "import gc\n",
    "\n",
    "# Suppress warnings \n",
    "import warnings\n",
    "warnings.filterwarnings('ignore')\n",
    "\n",
    "# matplotlib and seaborn for plotting\n",
    "import matplotlib.pyplot as plt\n",
    "import seaborn as sns"
   ]
  },
  {
   "cell_type": "markdown",
   "metadata": {
    "_cell_guid": "a5e67831-4751-4f11-8e07-527e3e092671",
    "_uuid": "ded520f73b9e94ed47ac2e994a5fb1bcb9093d0f"
   },
   "source": [
    "## Read in Data \n"
   ]
  },
  {
   "cell_type": "code",
   "execution_count": 2,
   "metadata": {},
   "outputs": [
    {
     "name": "stdout",
     "output_type": "stream",
     "text": [
      "Importing data...\n",
      "Data import complete.\n"
     ]
    }
   ],
   "source": [
    "print('Importing data...')\n",
    "app_train = pd.read_csv('input/application_train.csv')\n",
    "app_test = pd.read_csv('input/application_test.csv')\n",
    "prev = pd.read_csv('input/previous_application.csv')\n",
    "bureau = pd.read_csv('input/bureau.csv')\n",
    "bureau_balance = pd.read_csv('input/bureau_balance.csv')\n",
    "credit_card  = pd.read_csv('input/credit_card_balance.csv')\n",
    "POS_CASH  = pd.read_csv('input/POS_CASH_balance.csv')\n",
    "payments = pd.read_csv('input/installments_payments.csv')\n",
    "print('Data import complete.')"
   ]
  },
  {
   "cell_type": "code",
   "execution_count": 3,
   "metadata": {},
   "outputs": [],
   "source": [
    "# Separate target variable\n",
    "train_labels = app_train['TARGET']\n",
    "del app_train['TARGET']"
   ]
  },
  {
   "cell_type": "code",
   "execution_count": 4,
   "metadata": {
    "_cell_guid": "79c7e3d0-c299-4dcb-8224-4455121ee9b0",
    "_uuid": "d629ff2d2480ee46fbb7e2d37f6b5fab8052498a"
   },
   "outputs": [
    {
     "name": "stdout",
     "output_type": "stream",
     "text": [
      "Training data shape:  (307511, 121)\n",
      "Testing data shape:  (48744, 121)\n"
     ]
    }
   ],
   "source": [
    "print('Training data shape: ', app_train.shape)\n",
    "print('Testing data shape: ', app_test.shape)"
   ]
  },
  {
   "cell_type": "markdown",
   "metadata": {},
   "source": [
    "### Feature engineering"
   ]
  },
  {
   "cell_type": "code",
   "execution_count": 5,
   "metadata": {},
   "outputs": [],
   "source": [
    "# Add in the new features to the training dataframe\n",
    "app_train['CREDIT_INCOME_PERCENT'] = app_train['AMT_CREDIT'] / app_train['AMT_INCOME_TOTAL']\n",
    "app_train['ANNUITY_INCOME_PERCENT'] = app_train['AMT_ANNUITY'] / app_train['AMT_INCOME_TOTAL']\n",
    "app_train['CREDIT_TERM'] = app_train['AMT_ANNUITY'] / app_train['AMT_CREDIT']\n",
    "app_train['DAYS_EMPLOYED_PERCENT'] = app_train['DAYS_EMPLOYED'] / app_train['DAYS_BIRTH']\n",
    "\n",
    "# Add in the new features to the testing dataframe\n",
    "app_test['CREDIT_INCOME_PERCENT'] = app_test['AMT_CREDIT'] / app_test['AMT_INCOME_TOTAL']\n",
    "app_test['ANNUITY_INCOME_PERCENT'] = app_test['AMT_ANNUITY'] / app_test['AMT_INCOME_TOTAL']\n",
    "app_test['CREDIT_TERM'] = app_test['AMT_ANNUITY'] / app_test['AMT_CREDIT']\n",
    "app_test['DAYS_EMPLOYED_PERCENT'] = app_test['DAYS_EMPLOYED'] / app_test['DAYS_BIRTH']\n"
   ]
  },
  {
   "cell_type": "markdown",
   "metadata": {
    "_cell_guid": "95627792-157e-457a-88a8-3b3875c7e1d5",
    "_uuid": "46f5bf9a6de52e270aa911ffd895e704da5426ec"
   },
   "source": [
    "### Label Encoding and One-Hot Encoding\n"
   ]
  },
  {
   "cell_type": "code",
   "execution_count": 6,
   "metadata": {
    "_cell_guid": "70641d4d-1075-4837-8972-e58d70d8f242",
    "_uuid": "ddfaae5c3dcc7ec6bb47a2dffc10d364e8d25355"
   },
   "outputs": [
    {
     "name": "stdout",
     "output_type": "stream",
     "text": [
      "Training Features shape:  (307511, 249)\n",
      "Testing Features shape:  (48744, 249)\n"
     ]
    }
   ],
   "source": [
    "#One-hot encoding of categorical features in data and test sets\n",
    "categorical_features = [col for col in app_train.columns if app_train[col].dtype == 'object']\n",
    "\n",
    "ohe_df = pd.concat([app_train,app_test])\n",
    "ohe_df = pd.get_dummies(ohe_df, columns=categorical_features)\n",
    "\n",
    "app_train = ohe_df.iloc[:app_train.shape[0],:]\n",
    "app_test = ohe_df.iloc[app_train.shape[0]:,]\n",
    "\n",
    "print('Training Features shape: ', app_train.shape)\n",
    "print('Testing Features shape: ', app_test.shape)"
   ]
  },
  {
   "cell_type": "markdown",
   "metadata": {
    "_uuid": "802ffdbae02e43a9ca4e256ffcd6bd40ae15f3e9"
   },
   "source": [
    "### Pre-process all data"
   ]
  },
  {
   "cell_type": "code",
   "execution_count": 7,
   "metadata": {
    "scrolled": true
   },
   "outputs": [
    {
     "name": "stdout",
     "output_type": "stream",
     "text": [
      "bureau_balance pre-processing complete\n",
      "previous_application pre-processing complete\n",
      "bureau pre-processing complete\n",
      "POS_CASH pre-processing complete\n",
      "credit_card_balance pre-processing complete\n",
      "installments_payments pre-processing complete\n"
     ]
    }
   ],
   "source": [
    "# Pre-process bureau_balance\n",
    "bureau_grouped_size = bureau_balance.groupby('SK_ID_BUREAU')['MONTHS_BALANCE'].size()\n",
    "bureau_grouped_max = bureau_balance.groupby('SK_ID_BUREAU')['MONTHS_BALANCE'].max()\n",
    "bureau_grouped_min = bureau_balance.groupby('SK_ID_BUREAU')['MONTHS_BALANCE'].min()\n",
    "\n",
    "bureau_counts = bureau_balance.groupby('SK_ID_BUREAU')['STATUS'].value_counts(normalize = False)\n",
    "bureau_counts_unstacked = bureau_counts.unstack('STATUS')\n",
    "bureau_counts_unstacked.columns = ['STATUS_0', 'STATUS_1','STATUS_2','STATUS_3','STATUS_4','STATUS_5','STATUS_C','STATUS_X',]\n",
    "bureau_counts_unstacked['MONTHS_COUNT'] = bureau_grouped_size\n",
    "bureau_counts_unstacked['MONTHS_MIN'] = bureau_grouped_min\n",
    "bureau_counts_unstacked['MONTHS_MAX'] = bureau_grouped_max\n",
    "\n",
    "bureau = bureau.join(bureau_counts_unstacked, how='left', on='SK_ID_BUREAU')\n",
    "print('bureau_balance pre-processing complete')\n",
    "\n",
    "# Pre-process previous_application\n",
    "#One-hot encoding of categorical features in previous application data set\n",
    "prev_cat_features = [pcol for pcol in prev.columns if prev[pcol].dtype == 'object']\n",
    "prev = pd.get_dummies(prev, columns=prev_cat_features)\n",
    "avg_prev = prev.groupby('SK_ID_CURR').mean()\n",
    "cnt_prev = prev[['SK_ID_CURR', 'SK_ID_PREV']].groupby('SK_ID_CURR').count()\n",
    "avg_prev['nb_app'] = cnt_prev['SK_ID_PREV']\n",
    "del avg_prev['SK_ID_PREV']\n",
    "print('previous_application pre-processing complete')\n",
    "\n",
    "# Pre-process bureau\n",
    "#One-hot encoding of categorical features in buro data set\n",
    "bureau_cat_features = [bcol for bcol in bureau.columns if bureau[bcol].dtype == 'object']\n",
    "bureau = pd.get_dummies(bureau, columns=bureau_cat_features)\n",
    "avg_bureau = bureau.groupby('SK_ID_CURR').mean()\n",
    "avg_bureau['bureau_count'] = bureau[['SK_ID_BUREAU', 'SK_ID_CURR']].groupby('SK_ID_CURR').count()['SK_ID_BUREAU']\n",
    "del avg_bureau['SK_ID_BUREAU']\n",
    "print('bureau pre-processing complete')\n",
    "\n",
    "# Pre-process POS_CASH\n",
    "le = LabelEncoder()\n",
    "POS_CASH['NAME_CONTRACT_STATUS'] = le.fit_transform(POS_CASH['NAME_CONTRACT_STATUS'].astype(str))\n",
    "nunique_status = POS_CASH[['SK_ID_CURR', 'NAME_CONTRACT_STATUS']].groupby('SK_ID_CURR').nunique()\n",
    "nunique_status2 = POS_CASH[['SK_ID_CURR', 'NAME_CONTRACT_STATUS']].groupby('SK_ID_CURR').max()\n",
    "POS_CASH['NUNIQUE_STATUS'] = nunique_status['NAME_CONTRACT_STATUS']\n",
    "POS_CASH['NUNIQUE_STATUS2'] = nunique_status2['NAME_CONTRACT_STATUS']\n",
    "POS_CASH.drop(['SK_ID_PREV', 'NAME_CONTRACT_STATUS'], axis=1, inplace=True)\n",
    "print('POS_CASH pre-processing complete')\n",
    "\n",
    "# Pre-process credit_card_balance\n",
    "credit_card['NAME_CONTRACT_STATUS'] = le.fit_transform(credit_card['NAME_CONTRACT_STATUS'].astype(str))\n",
    "nunique_status = credit_card[['SK_ID_CURR', 'NAME_CONTRACT_STATUS']].groupby('SK_ID_CURR').nunique()\n",
    "nunique_status2 = credit_card[['SK_ID_CURR', 'NAME_CONTRACT_STATUS']].groupby('SK_ID_CURR').max()\n",
    "credit_card['NUNIQUE_STATUS'] = nunique_status['NAME_CONTRACT_STATUS']\n",
    "credit_card['NUNIQUE_STATUS2'] = nunique_status2['NAME_CONTRACT_STATUS']\n",
    "credit_card.drop(['SK_ID_PREV', 'NAME_CONTRACT_STATUS'], axis=1, inplace=True)\n",
    "print('credit_card_balance pre-processing complete')\n",
    "\n",
    "# Pre-process installments_payments\n",
    "avg_payments = payments.groupby('SK_ID_CURR').mean()\n",
    "avg_payments2 = payments.groupby('SK_ID_CURR').max()\n",
    "avg_payments3 = payments.groupby('SK_ID_CURR').min()\n",
    "del avg_payments['SK_ID_PREV']\n",
    "print('installments_payments pre-processing complete')"
   ]
  },
  {
   "cell_type": "markdown",
   "metadata": {},
   "source": [
    "#### Join Databases"
   ]
  },
  {
   "cell_type": "code",
   "execution_count": 8,
   "metadata": {},
   "outputs": [
    {
     "name": "stdout",
     "output_type": "stream",
     "text": [
      "Joining databases...\n",
      "Joining complete\n"
     ]
    }
   ],
   "source": [
    "print('Joining databases...')\n",
    "\n",
    "app_train = app_train.merge(right=avg_prev.reset_index(), how='left', on='SK_ID_CURR')\n",
    "app_test = app_test.merge(right=avg_prev.reset_index(), how='left', on='SK_ID_CURR')\n",
    "\n",
    "app_train = app_train.merge(right=avg_bureau.reset_index(), how='left', on='SK_ID_CURR')\n",
    "app_test = app_test.merge(right=avg_bureau.reset_index(), how='left', on='SK_ID_CURR')\n",
    "\n",
    "app_train = app_train.merge(POS_CASH.groupby('SK_ID_CURR').mean().reset_index(), how='left', on='SK_ID_CURR')\n",
    "app_test = app_test.merge(POS_CASH.groupby('SK_ID_CURR').mean().reset_index(), how='left', on='SK_ID_CURR')\n",
    "\n",
    "app_train = app_train.merge(credit_card.groupby('SK_ID_CURR').mean().reset_index(), how='left', on='SK_ID_CURR')\n",
    "app_test = app_test.merge(credit_card.groupby('SK_ID_CURR').mean().reset_index(), how='left', on='SK_ID_CURR')\n",
    "\n",
    "app_train = app_train.merge(right=avg_payments.reset_index(), how='left', on='SK_ID_CURR')\n",
    "app_test = app_test.merge(right=avg_payments.reset_index(), how='left', on='SK_ID_CURR')\n",
    "\n",
    "app_train = app_train.merge(right=avg_payments2.reset_index(), how='left', on='SK_ID_CURR')\n",
    "app_test = app_test.merge(right=avg_payments2.reset_index(), how='left', on='SK_ID_CURR')\n",
    "\n",
    "app_train = app_train.merge(right=avg_payments3.reset_index(), how='left', on='SK_ID_CURR')\n",
    "app_test = app_test.merge(right=avg_payments3.reset_index(), how='left', on='SK_ID_CURR')\n",
    "\n",
    "gc.enable()\n",
    "gc.collect()\n",
    "\n",
    "print('Joining complete')"
   ]
  },
  {
   "cell_type": "code",
   "execution_count": 9,
   "metadata": {},
   "outputs": [],
   "source": [
    "from sklearn.model_selection import KFold\n",
    "from sklearn.metrics import roc_auc_score, roc_curve\n",
    "import matplotlib.pyplot as plt\n",
    "import lightgbm as lgb\n",
    "\n",
    "import gc\n",
    "\n",
    "gc.enable()\n",
    "\n",
    "# K-fold cross validation\n",
    "folds = KFold(n_splits=5, shuffle=True, random_state=546789)\n",
    "\n",
    "# Empty arrays for out-of-fold validation predictions and test predictions\n",
    "oof_preds = np.zeros(app_train.shape[0])\n",
    "sub_preds = np.zeros(app_test.shape[0])\n",
    "\n",
    "# Empty array for feature importances\n",
    "feature_importance_df = pd.DataFrame()\n",
    "\n",
    "# Extract feature names\n",
    "feats = [f for f in app_train.columns if f not in ['SK_ID_CURR']]"
   ]
  },
  {
   "cell_type": "code",
   "execution_count": 11,
   "metadata": {},
   "outputs": [
    {
     "name": "stdout",
     "output_type": "stream",
     "text": [
      "Training until validation scores don't improve for 100 rounds.\n",
      "[100]\ttraining's binary_logloss: 0.241473\ttraining's auc: 0.778651\tvalid_1's binary_logloss: 0.248081\tvalid_1's auc: 0.762639\n",
      "[200]\ttraining's binary_logloss: 0.232932\ttraining's auc: 0.800286\tvalid_1's binary_logloss: 0.243335\tvalid_1's auc: 0.775103\n",
      "[300]\ttraining's binary_logloss: 0.227768\ttraining's auc: 0.813528\tvalid_1's binary_logloss: 0.241611\tvalid_1's auc: 0.779799\n",
      "[400]\ttraining's binary_logloss: 0.223736\ttraining's auc: 0.824163\tvalid_1's binary_logloss: 0.240849\tvalid_1's auc: 0.781869\n",
      "[500]\ttraining's binary_logloss: 0.220059\ttraining's auc: 0.833664\tvalid_1's binary_logloss: 0.240357\tvalid_1's auc: 0.783251\n",
      "[600]\ttraining's binary_logloss: 0.216863\ttraining's auc: 0.841856\tvalid_1's binary_logloss: 0.240094\tvalid_1's auc: 0.783933\n",
      "[700]\ttraining's binary_logloss: 0.214023\ttraining's auc: 0.849022\tvalid_1's binary_logloss: 0.239981\tvalid_1's auc: 0.784113\n",
      "Early stopping, best iteration is:\n",
      "[652]\ttraining's binary_logloss: 0.215426\ttraining's auc: 0.845504\tvalid_1's binary_logloss: 0.239957\tvalid_1's auc: 0.784282\n",
      "Fold  1 AUC : 0.784282\n",
      "Training until validation scores don't improve for 100 rounds.\n",
      "[100]\ttraining's binary_logloss: 0.241581\ttraining's auc: 0.778862\tvalid_1's binary_logloss: 0.247756\tvalid_1's auc: 0.762359\n",
      "[200]\ttraining's binary_logloss: 0.23304\ttraining's auc: 0.800335\tvalid_1's binary_logloss: 0.243109\tvalid_1's auc: 0.773461\n",
      "[300]\ttraining's binary_logloss: 0.227844\ttraining's auc: 0.81374\tvalid_1's binary_logloss: 0.241327\tvalid_1's auc: 0.778063\n",
      "[400]\ttraining's binary_logloss: 0.223723\ttraining's auc: 0.824398\tvalid_1's binary_logloss: 0.2405\tvalid_1's auc: 0.780435\n",
      "[500]\ttraining's binary_logloss: 0.220126\ttraining's auc: 0.833827\tvalid_1's binary_logloss: 0.240206\tvalid_1's auc: 0.781223\n",
      "[600]\ttraining's binary_logloss: 0.217017\ttraining's auc: 0.841697\tvalid_1's binary_logloss: 0.23995\tvalid_1's auc: 0.781892\n",
      "[700]\ttraining's binary_logloss: 0.213987\ttraining's auc: 0.849363\tvalid_1's binary_logloss: 0.239849\tvalid_1's auc: 0.782161\n",
      "[800]\ttraining's binary_logloss: 0.211085\ttraining's auc: 0.856486\tvalid_1's binary_logloss: 0.239771\tvalid_1's auc: 0.782319\n",
      "Early stopping, best iteration is:\n",
      "[770]\ttraining's binary_logloss: 0.211947\ttraining's auc: 0.854388\tvalid_1's binary_logloss: 0.239758\tvalid_1's auc: 0.782343\n",
      "Fold  2 AUC : 0.782343\n",
      "Training until validation scores don't improve for 100 rounds.\n",
      "[100]\ttraining's binary_logloss: 0.241849\ttraining's auc: 0.7792\tvalid_1's binary_logloss: 0.246395\tvalid_1's auc: 0.761547\n",
      "[200]\ttraining's binary_logloss: 0.233081\ttraining's auc: 0.801251\tvalid_1's binary_logloss: 0.241917\tvalid_1's auc: 0.772875\n",
      "[300]\ttraining's binary_logloss: 0.227873\ttraining's auc: 0.814701\tvalid_1's binary_logloss: 0.240252\tvalid_1's auc: 0.7773\n",
      "[400]\ttraining's binary_logloss: 0.223718\ttraining's auc: 0.825448\tvalid_1's binary_logloss: 0.239658\tvalid_1's auc: 0.77882\n",
      "[500]\ttraining's binary_logloss: 0.220116\ttraining's auc: 0.834702\tvalid_1's binary_logloss: 0.239252\tvalid_1's auc: 0.779814\n",
      "[600]\ttraining's binary_logloss: 0.216723\ttraining's auc: 0.8432\tvalid_1's binary_logloss: 0.238991\tvalid_1's auc: 0.780419\n",
      "[700]\ttraining's binary_logloss: 0.213703\ttraining's auc: 0.850496\tvalid_1's binary_logloss: 0.238818\tvalid_1's auc: 0.780927\n",
      "[800]\ttraining's binary_logloss: 0.210886\ttraining's auc: 0.857342\tvalid_1's binary_logloss: 0.238807\tvalid_1's auc: 0.780974\n",
      "Early stopping, best iteration is:\n",
      "[773]\ttraining's binary_logloss: 0.211645\ttraining's auc: 0.855457\tvalid_1's binary_logloss: 0.238794\tvalid_1's auc: 0.78106\n",
      "Fold  3 AUC : 0.781060\n",
      "Training until validation scores don't improve for 100 rounds.\n",
      "[100]\ttraining's binary_logloss: 0.241807\ttraining's auc: 0.778879\tvalid_1's binary_logloss: 0.246614\tvalid_1's auc: 0.760798\n",
      "[200]\ttraining's binary_logloss: 0.233132\ttraining's auc: 0.800807\tvalid_1's binary_logloss: 0.242293\tvalid_1's auc: 0.772574\n",
      "[300]\ttraining's binary_logloss: 0.227883\ttraining's auc: 0.814089\tvalid_1's binary_logloss: 0.240827\tvalid_1's auc: 0.776674\n",
      "[400]\ttraining's binary_logloss: 0.223734\ttraining's auc: 0.824936\tvalid_1's binary_logloss: 0.24014\tvalid_1's auc: 0.778846\n",
      "[500]\ttraining's binary_logloss: 0.220268\ttraining's auc: 0.834088\tvalid_1's binary_logloss: 0.239888\tvalid_1's auc: 0.779636\n",
      "[600]\ttraining's binary_logloss: 0.216844\ttraining's auc: 0.84264\tvalid_1's binary_logloss: 0.239634\tvalid_1's auc: 0.780462\n",
      "[700]\ttraining's binary_logloss: 0.213807\ttraining's auc: 0.850112\tvalid_1's binary_logloss: 0.23954\tvalid_1's auc: 0.780666\n",
      "[800]\ttraining's binary_logloss: 0.210897\ttraining's auc: 0.857224\tvalid_1's binary_logloss: 0.239558\tvalid_1's auc: 0.780616\n",
      "Early stopping, best iteration is:\n",
      "[776]\ttraining's binary_logloss: 0.211602\ttraining's auc: 0.855561\tvalid_1's binary_logloss: 0.239515\tvalid_1's auc: 0.780735\n",
      "Fold  4 AUC : 0.780735\n",
      "Training until validation scores don't improve for 100 rounds.\n",
      "[100]\ttraining's binary_logloss: 0.242388\ttraining's auc: 0.779582\tvalid_1's binary_logloss: 0.244208\tvalid_1's auc: 0.757897\n",
      "[200]\ttraining's binary_logloss: 0.23366\ttraining's auc: 0.801633\tvalid_1's binary_logloss: 0.240095\tvalid_1's auc: 0.769135\n",
      "[300]\ttraining's binary_logloss: 0.228441\ttraining's auc: 0.814916\tvalid_1's binary_logloss: 0.238643\tvalid_1's auc: 0.773489\n",
      "[400]\ttraining's binary_logloss: 0.224191\ttraining's auc: 0.826\tvalid_1's binary_logloss: 0.238043\tvalid_1's auc: 0.77535\n",
      "[500]\ttraining's binary_logloss: 0.220429\ttraining's auc: 0.835588\tvalid_1's binary_logloss: 0.237651\tvalid_1's auc: 0.776723\n",
      "[600]\ttraining's binary_logloss: 0.217079\ttraining's auc: 0.844038\tvalid_1's binary_logloss: 0.237435\tvalid_1's auc: 0.777371\n",
      "[700]\ttraining's binary_logloss: 0.214021\ttraining's auc: 0.851633\tvalid_1's binary_logloss: 0.23731\tvalid_1's auc: 0.777903\n",
      "[800]\ttraining's binary_logloss: 0.211192\ttraining's auc: 0.858443\tvalid_1's binary_logloss: 0.237262\tvalid_1's auc: 0.778063\n",
      "[900]\ttraining's binary_logloss: 0.208239\ttraining's auc: 0.8653\tvalid_1's binary_logloss: 0.237237\tvalid_1's auc: 0.778231\n",
      "[1000]\ttraining's binary_logloss: 0.205573\ttraining's auc: 0.871451\tvalid_1's binary_logloss: 0.237307\tvalid_1's auc: 0.778003\n",
      "Early stopping, best iteration is:\n",
      "[925]\ttraining's binary_logloss: 0.207602\ttraining's auc: 0.866796\tvalid_1's binary_logloss: 0.237205\tvalid_1's auc: 0.778298\n",
      "Fold  5 AUC : 0.778298\n"
     ]
    }
   ],
   "source": [
    "# Iterate through each fold\n",
    "for n_fold, (trn_idx, val_idx) in enumerate(folds.split(app_train)):\n",
    "    # Training data for the fold\n",
    "    trn_x, trn_y = app_train[feats].iloc[trn_idx], train_labels.iloc[trn_idx]\n",
    "    # Validation data for the fold\n",
    "    val_x, val_y = app_train[feats].iloc[val_idx], train_labels.iloc[val_idx]\n",
    "    \n",
    "    # Create LGBM Model\n",
    "    clf = lgb.LGBMClassifier(\n",
    "        objective = 'binary',\n",
    "        n_estimators = 10000,\n",
    "        num_leaves = 34,\n",
    "        colsample_bytree = .9497036,\n",
    "        subsample = .8715623,\n",
    "        max_depth = 8,\n",
    "        reg_alpha = .041545473,\n",
    "        reg_lambda = .0735294,\n",
    "        min_split_gain = .0222415,\n",
    "        learning_rate = 0.03,\n",
    "        min_child_weight = 39.3259775,\n",
    "        silent = -1,\n",
    "        verbose = -1)\n",
    "    \n",
    "    # Train the model\n",
    "    clf.fit(trn_x, trn_y, \n",
    "            eval_set = [(trn_x, trn_y), (val_x, val_y)], \n",
    "            eval_metric ='auc', \n",
    "            verbose = 100, \n",
    "            early_stopping_rounds = 100)\n",
    "    \n",
    "    # Make predictions\n",
    "    oof_preds[val_idx] = clf.predict_proba(val_x, num_iteration=clf.best_iteration_)[:, 1]\n",
    "    # Record out-of-fold predictions\n",
    "    sub_preds += clf.predict_proba(app_test[feats], num_iteration=clf.best_iteration_)[:, 1] / folds.n_splits\n",
    "    \n",
    "    # Make the feature importance dataframe\n",
    "    fold_importance_df = pd.DataFrame()\n",
    "    fold_importance_df[\"feature\"] = feats\n",
    "    fold_importance_df[\"importance\"] = clf.feature_importances_\n",
    "    fold_importance_df[\"fold\"] = n_fold + 1\n",
    "    feature_importance_df = pd.concat([feature_importance_df, fold_importance_df], axis=0)\n",
    "    \n",
    "    # Validation score per fold\n",
    "    print('Fold %2d AUC : %.6f' % (n_fold + 1, roc_auc_score(val_y, oof_preds[val_idx])))\n",
    "    del clf, trn_x, trn_y, val_x, val_y\n",
    "    gc.collect()"
   ]
  },
  {
   "cell_type": "code",
   "execution_count": 12,
   "metadata": {},
   "outputs": [
    {
     "name": "stdout",
     "output_type": "stream",
     "text": [
      "Full AUC score 0.781326\n"
     ]
    }
   ],
   "source": [
    "# Overall validation score\n",
    "print('Full AUC score %.6f' % roc_auc_score(train_labels, oof_preds)) \n",
    "\n",
    "app_test['TARGET'] = sub_preds\n"
   ]
  },
  {
   "cell_type": "code",
   "execution_count": 13,
   "metadata": {},
   "outputs": [
    {
     "data": {
      "image/png": "[encoded data removed]",
      "text/plain": [
       "<Figure size 504x432 with 1 Axes>"
      ]
     },
     "metadata": {},
     "output_type": "display_data"
    },
    {
     "data": {
      "text/plain": [
       "<Figure size 432x288 with 0 Axes>"
      ]
     },
     "metadata": {},
     "output_type": "display_data"
    }
   ],
   "source": [
    "# Plot ROC curves\n",
    "plt.figure(figsize=(7,6))\n",
    "scores = [] \n",
    "for n_fold, (_, val_idx) in enumerate(folds.split(app_train)):  \n",
    "    # Plot the roc curve\n",
    "    fpr, tpr, thresholds = roc_curve(train_labels.iloc[val_idx], oof_preds[val_idx])\n",
    "    score = roc_auc_score(train_labels.iloc[val_idx], oof_preds[val_idx])\n",
    "    scores.append(score)\n",
    "    plt.plot(fpr, tpr, lw=1, alpha=0.3, label='ROC fold %d (AUC = %0.4f)' % (n_fold + 1, score))\n",
    "\n",
    "plt.plot([0, 1], [0, 1], linestyle='--', lw=2, color='r', label='Luck', alpha=.8)\n",
    "fpr, tpr, thresholds = roc_curve(train_labels, oof_preds)\n",
    "score = roc_auc_score(train_labels, oof_preds)\n",
    "plt.plot(fpr, tpr, color='b',\n",
    "         label='Avg ROC (AUC = %0.4f $\\pm$ %0.4f)' % (score, np.std(scores)),\n",
    "         lw=2, alpha=.8)\n",
    "\n",
    "plt.xlim([-0.05, 1.05])\n",
    "plt.ylim([-0.05, 1.05])\n",
    "plt.xlabel('False Positive Rate')\n",
    "plt.ylabel('True Positive Rate')\n",
    "plt.title('LightGBM ROC Curve')\n",
    "plt.legend(loc=\"lower right\")\n",
    "plt.tight_layout()\n",
    "plt.show()"
   ]
  },
  {
   "cell_type": "code",
   "execution_count": 14,
   "metadata": {},
   "outputs": [
    {
     "data": {
      "image/png": "[encoded data removed]",
      "text/plain": [
       "<Figure size 720x432 with 1 Axes>"
      ]
     },
     "metadata": {},
     "output_type": "display_data"
    }
   ],
   "source": [
    "# Plot feature importances\n",
    "cols = feature_importance_df[[\"feature\", \"importance\"]].groupby(\"feature\").mean().sort_values(\n",
    "    by=\"importance\", ascending=False)[:15].index\n",
    "\n",
    "best_features = feature_importance_df.loc[feature_importance_df.feature.isin(cols)]\n",
    "\n",
    "plt.figure(figsize=(10,6))\n",
    "sns.barplot(x=\"importance\", y=\"feature\", data=best_features.sort_values(by=\"importance\", ascending=False))\n",
    "plt.title('Top 15 LightGBM Features (avg over folds)')\n",
    "plt.tight_layout()\n",
    "plt.show()\n",
    "\n"
   ]
  },
  {
   "cell_type": "code",
   "execution_count": null,
   "metadata": {},
   "outputs": [],
   "source": []
  }
 ],
 "metadata": {
  "kernelspec": {
   "display_name": "conda_python3",
   "language": "python",
   "name": "conda_python3"
  },
  "language_info": {
   "codemirror_mode": {
    "name": "ipython",
    "version": 3
   },
   "file_extension": ".py",
   "mimetype": "text/x-python",
   "name": "python",
   "nbconvert_exporter": "python",
   "pygments_lexer": "ipython3",
   "version": "3.6.5"
  }
 },
 "nbformat": 4,
 "nbformat_minor": 1
}
